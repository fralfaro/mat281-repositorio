{
  "cells": [
    {
      "cell_type": "markdown",
      "metadata": {
        "id": "fIIDklQG_K4U"
      },
      "source": [
        "<a href=\"https://colab.research.google.com/github/fralfaro/MAT281_2023/blob/main/docs/lectures/basic_tools/bt_01.ipynb\" target=\"_parent\"><img src=\"https://colab.research.google.com/assets/colab-badge.svg\" alt=\"Open In Colab\"/></a>\n",
        "\n",
        "# Python\n",
        "\n",
        "<img src=\"https://drive.google.com/uc?export=view&id=1X2cJKKD4KvGb_nkr2n3-EB9umYMX5_pc\" width = \"200\" align=\"center\"/>\n",
        "\n",
        "**Python** es un lenguaje de programación interpretado y de alto nivel. Fue creado por Guido van Rossum y lanzado por primera vez en 1991. Python se destaca por su legibilidad y sintaxis clara, lo que lo hace ideal tanto para principiantes como para programadores experimentados.\n",
        "\n",
        "Una de las características más destacadas de Python es su filosofía de diseño, que enfatiza la legibilidad del código y la facilidad de uso. El lenguaje utiliza una sintaxis limpia y utiliza el espaciado en blanco de manera significativa para estructurar el código, lo que lo hace fácil de leer y entender.\n"
      ]
    },
    {
      "cell_type": "markdown",
      "metadata": {
        "id": "WpRbmcLv_K4a"
      },
      "source": [
        "> **Nota**: Para profundizar en conceptos básicos de Python, se recomienda estudiar del curso [Introducción a Python](https://fralfaro.github.io/python_intro/)."
      ]
    },
    {
      "cell_type": "markdown",
      "metadata": {
        "id": "l3Vfj3OI_K4b"
      },
      "source": [
        "<a id='sub1'></a>\n",
        "##  Nomenclatura básica\n",
        "\n",
        "\n",
        "### Hola mundo!\n",
        "\n",
        "Escribamos nuestro primer programa de Python, \"¡Hola, mundo!\". Es un programa simple que imprime Hello World! en el dispositivo de salida estándar (pantalla).\n"
      ]
    },
    {
      "cell_type": "code",
      "execution_count": 2,
      "metadata": {
        "id": "V26Laifi_K4b",
        "outputId": "bb7aa580-f338-4956-cd29-9a2a0eca4320",
        "colab": {
          "base_uri": "https://localhost:8080/"
        }
      },
      "outputs": [
        {
          "output_type": "stream",
          "name": "stdout",
          "text": [
            "Hola clase!\n"
          ]
        }
      ],
      "source": [
        "# imprimir \"Hola Mundo!\"\n",
        "print(\"Hola clase!\");"
      ]
    },
    {
      "cell_type": "markdown",
      "metadata": {
        "id": "Xy0ZPWBD_K4d"
      },
      "source": [
        "### Variables\n",
        "\n",
        "Una *variable* es una ubicación con nombre utilizada para almacenar datos en la memoria. Aquí hay un ejemplo:"
      ]
    },
    {
      "cell_type": "code",
      "execution_count": 4,
      "metadata": {
        "id": "meqQJ2Mk_K4e",
        "outputId": "61a0c356-eaf0-4a41-cea7-10a5e38babf9",
        "colab": {
          "base_uri": "https://localhost:8080/"
        }
      },
      "outputs": [
        {
          "output_type": "stream",
          "name": "stdout",
          "text": [
            "a = 5\n",
            "a = cinco\n"
          ]
        }
      ],
      "source": [
        "# crear e imprimir variables\n",
        "a = 5\n",
        "print(\"a =\", a)\n",
        "a = \"cinco\"\n",
        "print(\"a =\", a)"
      ]
    },
    {
      "cell_type": "markdown",
      "metadata": {
        "id": "oIoXfLGo_K4f"
      },
      "source": [
        "### Operadores básico\n",
        "\n",
        "Los operadores son símbolos especiales que realizan operaciones en operandos (variables y valores). Hablemos de operadores aritméticos y de asignación en esta parte."
      ]
    },
    {
      "cell_type": "code",
      "execution_count": null,
      "metadata": {
        "id": "nwUMFk1t_K4h",
        "outputId": "cb8f883e-c103-4eac-9723-209cacbdb541"
      },
      "outputs": [
        {
          "name": "stdout",
          "output_type": "stream",
          "text": [
            "x + y = 18\n",
            "x - y = 10\n",
            "x * y = 56\n",
            "x / y = 3.5\n",
            "x // y = 3\n",
            "x % y = 2\n"
          ]
        }
      ],
      "source": [
        "# operaciones basicas\n",
        "\n",
        "x = 14\n",
        "y = 4\n",
        "\n",
        "# suma\n",
        "print('x + y =', x+y) # Output: x + y = 18\n",
        "\n",
        "# resta\n",
        "print('x - y =', x-y) # Output: x - y = 10\n",
        "\n",
        "# multiplicacion\n",
        "print('x * y =', x*y) # Output: x * y = 56\n",
        "\n",
        "# division\n",
        "print('x / y =', x/y) # Output: x / y = 3.5\n",
        "\n",
        "# cuociente\n",
        "print('x // y =', x//y) # Output: x // y = 3\n",
        "\n",
        "# resto\n",
        "print('x % y =', x%y) # Output: x % y = 2"
      ]
    },
    {
      "cell_type": "markdown",
      "metadata": {
        "id": "Tvs2mb7R_K4j"
      },
      "source": [
        "### Operadores de asignación\n",
        "\n",
        "Los operadores de asignación se utilizan para asignar valores a las variables. Ya has visto el uso de = operator. Probemos algunos operadores de asignación más."
      ]
    },
    {
      "cell_type": "code",
      "execution_count": null,
      "metadata": {
        "id": "5zayUl6I_K4k",
        "outputId": "3336d400-4ec6-4888-ec4e-b47123477644"
      },
      "outputs": [
        {
          "name": "stdout",
          "output_type": "stream",
          "text": [
            "10\n",
            "2.0\n"
          ]
        }
      ],
      "source": [
        "# operadores de asignacion\n",
        "\n",
        "x = 5\n",
        "\n",
        "# x += 5 ----> x = x + 5\n",
        "x +=5\n",
        "print(x) # Output: 10\n",
        "\n",
        "# x /= 5 ----> x = x / 5\n",
        "x /= 5\n",
        "print(x) # Output: 2.0"
      ]
    },
    {
      "cell_type": "markdown",
      "metadata": {
        "id": "GVO2thj4_K4l"
      },
      "source": [
        "### Inputs por el usuario\n",
        "\n",
        "En Python, puede usar la función *input()* para tomar la entrada del usuario. Por ejemplo:"
      ]
    },
    {
      "cell_type": "markdown",
      "metadata": {
        "id": "SjEefz-J_K4l"
      },
      "source": [
        "```python\n",
        "# inputs por el usuario\n",
        "inputString = input('Escriba una oracion:')\n",
        "print('Su oracion es:', inputString)\n",
        "```"
      ]
    },
    {
      "cell_type": "markdown",
      "metadata": {
        "id": "zaa1Pyo1_K4m"
      },
      "source": [
        "### Conversión de tipo\n",
        "\n",
        "The process of converting the value of one data type (integer, string, float, etc.) to another is called type conversion. Python has two types of type conversion.\n",
        "\n",
        "#### Implícita"
      ]
    },
    {
      "cell_type": "code",
      "execution_count": null,
      "metadata": {
        "id": "Q37n2nej_K4m",
        "outputId": "26ac3067-0378-4f83-8150-326b38224c75"
      },
      "outputs": [
        {
          "name": "stdout",
          "output_type": "stream",
          "text": [
            "Valor de num_new: 124.23\n",
            "tipo de datos de  num_new: <class 'float'>\n"
          ]
        }
      ],
      "source": [
        "# correcto\n",
        "num_int = 123  # integer type\n",
        "num_flo = 1.23 # float type\n",
        "\n",
        "num_new = num_int + num_flo\n",
        "\n",
        "print(\"Valor de num_new:\",num_new)\n",
        "print(\"tipo de datos de  num_new:\",type(num_new))"
      ]
    },
    {
      "cell_type": "code",
      "execution_count": null,
      "metadata": {
        "id": "aPzcUMUm_K4m",
        "outputId": "62bcfe6b-0286-4d0f-be7b-bc9884f12cd3"
      },
      "outputs": [
        {
          "ename": "TypeError",
          "evalue": "unsupported operand type(s) for +: 'int' and 'str'",
          "output_type": "error",
          "traceback": [
            "\u001b[0;31m---------------------------------------------------------------------------\u001b[0m",
            "\u001b[0;31mTypeError\u001b[0m                                 Traceback (most recent call last)",
            "Input \u001b[0;32mIn [6]\u001b[0m, in \u001b[0;36m<cell line: 5>\u001b[0;34m()\u001b[0m\n\u001b[1;32m      2\u001b[0m num_int \u001b[38;5;241m=\u001b[39m \u001b[38;5;241m123\u001b[39m     \u001b[38;5;66;03m# int type\u001b[39;00m\n\u001b[1;32m      3\u001b[0m num_str \u001b[38;5;241m=\u001b[39m \u001b[38;5;124m\"\u001b[39m\u001b[38;5;124m456\u001b[39m\u001b[38;5;124m\"\u001b[39m   \u001b[38;5;66;03m# str type\u001b[39;00m\n\u001b[0;32m----> 5\u001b[0m \u001b[38;5;28mprint\u001b[39m(\u001b[43mnum_int\u001b[49m\u001b[38;5;241;43m+\u001b[39;49m\u001b[43mnum_str\u001b[49m)\n",
            "\u001b[0;31mTypeError\u001b[0m: unsupported operand type(s) for +: 'int' and 'str'"
          ]
        }
      ],
      "source": [
        "# incorrecto\n",
        "num_int = 123     # int type\n",
        "num_str = \"456\"   # str type\n",
        "\n",
        "print(num_int+num_str)"
      ]
    },
    {
      "cell_type": "markdown",
      "metadata": {
        "id": "w3rwMerP_K4n"
      },
      "source": [
        "#### Explícito"
      ]
    },
    {
      "cell_type": "code",
      "execution_count": null,
      "metadata": {
        "id": "TYqiOiQr_K4n"
      },
      "outputs": [],
      "source": [
        "num_int = 123  # int type\n",
        "num_str = \"456\" # str type\n",
        "\n",
        "# explicitly converted to int type\n",
        "num_str = int(num_str)\n",
        "\n",
        "print(num_int+num_str)"
      ]
    },
    {
      "cell_type": "markdown",
      "metadata": {
        "id": "4D6jm0UO_K4o"
      },
      "source": [
        "### Python tipos numéricos\n",
        "\n",
        "Python admite enteros, números de coma flotante y números complejos. Se definen como int, float y clase compleja en Python. Además de eso, los booleanos: verdadero y falso son un subtipo de enteros."
      ]
    },
    {
      "cell_type": "code",
      "execution_count": null,
      "metadata": {
        "id": "kPdm8-ns_K4o",
        "outputId": "76febd07-69f5-43fe-e5b0-b64450efdda1"
      },
      "outputs": [
        {
          "name": "stdout",
          "output_type": "stream",
          "text": [
            "<class 'int'>\n",
            "<class 'float'>\n",
            "<class 'complex'>\n"
          ]
        }
      ],
      "source": [
        "print(type(5))\n",
        "\n",
        "# Output: <class>\n",
        "print(type(5.0))\n",
        "\n",
        "# <class>\n",
        "c = 5 + 3j\n",
        "print(type(c))"
      ]
    },
    {
      "cell_type": "markdown",
      "metadata": {
        "id": "8RO5g97J_K4o"
      },
      "source": [
        "### Manejo de excepciones de Python\n",
        "\n",
        "Los errores que se producen en tiempo de ejecución se denominan excepciones. Ocurren, por ejemplo, cuando un archivo que intentamos abrir no existe *FileNotFoundError*, dividiendo un número por cero *ZeroDivisionError*, etc.\n",
        "\n",
        "Si no se manejan las excepciones, se escupe un mensaje de error y nuestro programa se detiene repentinamente e inesperadamente.\n",
        "\n",
        "En Python, las excepciones se pueden manejar usando la declaración try. Cuando se detectan excepciones, depende de usted qué operador realizar."
      ]
    },
    {
      "cell_type": "code",
      "execution_count": null,
      "metadata": {
        "id": "PaP2q4L5_K4p",
        "outputId": "c980da61-7206-4cc7-e3e4-9a2888ea3a91"
      },
      "outputs": [
        {
          "name": "stdout",
          "output_type": "stream",
          "text": [
            "La entrada es  a\n",
            "Oops! ocurrio un <class 'ValueError'>\n",
            "Siguiente entrada.\n",
            "\n",
            "La entrada es  0\n",
            "Oops! ocurrio un <class 'ZeroDivisionError'>\n",
            "Siguiente entrada.\n",
            "\n",
            "La entrada es  2\n",
            "El reciproco de 2 es 0.5\n"
          ]
        }
      ],
      "source": [
        "# importar modulo sys\n",
        "import sys\n",
        "\n",
        "lista_random = ['a', 0, 2]\n",
        "\n",
        "for elemento in lista_random:\n",
        "    try:\n",
        "        print(\"La entrada es \", elemento)\n",
        "        r = 1/int(elemento)\n",
        "        break\n",
        "    except:\n",
        "        print(\"Oops! ocurrio un\",sys.exc_info()[0])\n",
        "        print(\"Siguiente entrada.\")\n",
        "        print()\n",
        "\n",
        "print(\"El reciproco de\",elemento,\"es\",r)"
      ]
    },
    {
      "cell_type": "markdown",
      "metadata": {
        "id": "qDNM4U25_K4q"
      },
      "source": [
        "Algunas Excepciones Comunes\n",
        "\n",
        "* **NameError**: Esta excepción es levantada cuando el programa no puede encontrar un nombre local o global. El nombre que podría no ser encontrado está incluido en el mensaje de error.\n",
        "* **TypeError**: Esta excepción es levantada cuando una función se le pasa un objeto del tipo inapropiado como su argumento. Más detalles sobre el tipo incorrecto son proporcionados en el mensaje de error.\n",
        "* **ValueError**: Esta excepción ocurre cuando un argumento de función tiene el tipo correcto pero un valor inapropiado.\n",
        "* **NotImplementedError**: Esta excepción es levantada cuando se supone que un objeto apoye una operación pero no ha sido implementado aún. No deberías usar este error cuando la función dada no deba apoyar al tipo de argumento de entrada. En esas situaciones, levantar una excepción TypeError es más apropiado.\n",
        "* **ZeroDivisionError**: Esta excepción es levantada cuando proporcionas el segundo argumento para una operación de división o módulo como cero.\n",
        "* **FileNotFoundError**: Esta excepción es levantada cuando el archivo o diccionario que el programa solicitó no existe."
      ]
    },
    {
      "cell_type": "markdown",
      "metadata": {
        "id": "fMjDkFog_K4q"
      },
      "source": [
        "### Aserciones en python\n",
        "\n",
        "Las aserciones  son expresiones booleanas que comprueban si las condiciones devuelven verdaderas o no. Si es cierto, el programa no hace nada y pasa a la siguiente línea de código. Sin embargo, si es falso, el programa se detiene y arroja un error.\n",
        "\n",
        "Las aserciones son importantes al momento de realizar **tests unitarios** o asegurar que un resultado siempre sea el mismo.\n",
        "\n",
        "<img src=\"https://cdn.programiz.com/sites/tutorial2program/files/Python%20Assert%20Statement.jpg\" width=\"480\" height=\"480\" align=\"center\"/>"
      ]
    },
    {
      "cell_type": "code",
      "execution_count": null,
      "metadata": {
        "id": "JfmkuWsS_K4q"
      },
      "outputs": [],
      "source": [
        "# definir funcion\n",
        "def suma(x,y):\n",
        "    return x+y"
      ]
    },
    {
      "cell_type": "code",
      "execution_count": null,
      "metadata": {
        "id": "DxdJxs5y_K4r"
      },
      "outputs": [],
      "source": [
        "# ejemplo correcto\n",
        "assert suma(1,1)==2, \"ejemplo invalido\""
      ]
    },
    {
      "cell_type": "code",
      "execution_count": null,
      "metadata": {
        "id": "3aYTZiSm_K4r",
        "outputId": "5af5db96-d283-4217-8936-a06b45aa3ad3"
      },
      "outputs": [
        {
          "ename": "AssertionError",
          "evalue": "ejemplo invalido",
          "output_type": "error",
          "traceback": [
            "\u001b[0;31m---------------------------------------------------------------------------\u001b[0m",
            "\u001b[0;31mAssertionError\u001b[0m                            Traceback (most recent call last)",
            "Input \u001b[0;32mIn [11]\u001b[0m, in \u001b[0;36m<cell line: 2>\u001b[0;34m()\u001b[0m\n\u001b[1;32m      1\u001b[0m \u001b[38;5;66;03m# ejemplo incorrecto\u001b[39;00m\n\u001b[0;32m----> 2\u001b[0m \u001b[38;5;28;01massert\u001b[39;00m suma(\u001b[38;5;241m1\u001b[39m,\u001b[38;5;241m1\u001b[39m)\u001b[38;5;241m==\u001b[39m\u001b[38;5;241m3\u001b[39m, \u001b[38;5;124m\"\u001b[39m\u001b[38;5;124mejemplo invalido\u001b[39m\u001b[38;5;124m\"\u001b[39m\n",
            "\u001b[0;31mAssertionError\u001b[0m: ejemplo invalido"
          ]
        }
      ],
      "source": [
        "# ejemplo incorrecto\n",
        "assert suma(1,1)==3, \"ejemplo invalido\""
      ]
    },
    {
      "cell_type": "markdown",
      "metadata": {
        "id": "Zor9WGD8_K4r"
      },
      "source": [
        "<a id='sub2'></a>\n",
        "##  Estructura de datos"
      ]
    },
    {
      "cell_type": "markdown",
      "metadata": {
        "id": "2hwqqcSJ_K4s"
      },
      "source": [
        "### Listas\n",
        "\n",
        "Se crea una lista colocando todos los elementos (elementos) dentro de un corchete [] separados por comas."
      ]
    },
    {
      "cell_type": "code",
      "execution_count": null,
      "metadata": {
        "id": "DRu9cfk7_K4s"
      },
      "outputs": [],
      "source": [
        "# lista vacia\n",
        "lista = []\n",
        "# lista de enteros\n",
        "lista = [1, 2, 3]\n",
        "# lista mixta\n",
        "lista = [1, \"hola\", 3.4]"
      ]
    },
    {
      "cell_type": "markdown",
      "metadata": {
        "id": "cUjlsxXo_K4s"
      },
      "source": [
        "También, se pueden acceder a cada uno de sus eleentos"
      ]
    },
    {
      "cell_type": "code",
      "execution_count": null,
      "metadata": {
        "id": "a5RsCTEg_K4s",
        "outputId": "f10a6cd4-32f4-4efc-d4e1-cd9d3b2a411f"
      },
      "outputs": [
        {
          "name": "stdout",
          "output_type": "stream",
          "text": [
            "uno\n",
            "['dos', 'tres']\n"
          ]
        }
      ],
      "source": [
        "numeros = [\"uno\", \"dos\", \"tres\", \"cuatro\"]\n",
        "\n",
        "# acceder al primer elemento\n",
        "print(numeros[0])\n",
        "\n",
        "\n",
        "# acceder al cuarto elemento\n",
        "print(numeros[1:3])"
      ]
    },
    {
      "cell_type": "markdown",
      "metadata": {
        "id": "xDLfmi1h_K4t"
      },
      "source": [
        "### Tuplas\n",
        "\n",
        "La tupla es similar a una lista, excepto que no puede cambiar los elementos de una tupla una vez que está definida. Mientras que en una lista, los elementos se pueden modificar."
      ]
    },
    {
      "cell_type": "code",
      "execution_count": null,
      "metadata": {
        "id": "b_YcIeG3_K4t",
        "outputId": "75237e8c-9a40-4f74-c688-0d44027ff7cc"
      },
      "outputs": [
        {
          "name": "stdout",
          "output_type": "stream",
          "text": [
            "('uno', 'dos', 'tres', 'cuatro')\n"
          ]
        }
      ],
      "source": [
        "numeros = (\"uno\", \"dos\", \"tres\", \"cuatro\")\n",
        "print(numeros)"
      ]
    },
    {
      "cell_type": "code",
      "execution_count": null,
      "metadata": {
        "id": "NcXA0KvQ_K4t",
        "outputId": "e5b955b5-dbc1-4e7d-d265-6e85d4493b0a"
      },
      "outputs": [
        {
          "name": "stdout",
          "output_type": "stream",
          "text": [
            "dos\n",
            "cuatro\n",
            "cuatro\n"
          ]
        }
      ],
      "source": [
        "numeros = (\"uno\", \"dos\", \"tres\", \"cuatro\")\n",
        "\n",
        "print(numeros[1]) #Output: dos\n",
        "print(numeros[3]) #Output: cuatro\n",
        "print(numeros[-1]) # Output: cuatro"
      ]
    },
    {
      "cell_type": "markdown",
      "metadata": {
        "id": "hcooPyhz_K4u"
      },
      "source": [
        "### Conjuntos\n",
        "\n",
        "Un conjunto es una colección desordenada de elementos donde cada elemento es único (sin duplicados).\n"
      ]
    },
    {
      "cell_type": "code",
      "execution_count": null,
      "metadata": {
        "id": "a620EA7C_K4u",
        "outputId": "90275f35-d09a-488c-c546-96419dff35bc"
      },
      "outputs": [
        {
          "name": "stdout",
          "output_type": "stream",
          "text": [
            "{1, 2, 3}\n",
            "{1.0, (1, 2, 3), 'hola'}\n"
          ]
        }
      ],
      "source": [
        "# conjunto de enteros\n",
        "conjunto = {1, 2, 3}\n",
        "print(conjunto)\n",
        "\n",
        "# conjunto mixto\n",
        "conjunto = {1.0, \"hola\", (1, 2, 3)}\n",
        "print(conjunto)"
      ]
    },
    {
      "cell_type": "code",
      "execution_count": null,
      "metadata": {
        "id": "R1ldiC8D_K4u",
        "outputId": "3b78155e-1c3d-42be-8dc6-61dbd4dd1a7b"
      },
      "outputs": [
        {
          "name": "stdout",
          "output_type": "stream",
          "text": [
            "{1, 2, 3, 4}\n",
            "{1, 2, 3, 4}\n",
            "{1, 2, 3, 4, 5}\n",
            "{1, 2, 3, 5}\n"
          ]
        }
      ],
      "source": [
        "# conjunto de enteros\n",
        "conjunto = {1, 2, 3}\n",
        "\n",
        "conjunto.add(4)\n",
        "print(conjunto) # Output: {1, 2, 3, 4}\n",
        "\n",
        "conjunto.add(2)\n",
        "print(conjunto) # Output: {1, 2, 3, 4}\n",
        "\n",
        "conjunto.update([3, 4, 5])\n",
        "print(conjunto) # Output: {1, 2, 3, 4, 5}\n",
        "\n",
        "conjunto.remove(4)\n",
        "print(conjunto) # Output: {1, 2, 3, 5}"
      ]
    },
    {
      "cell_type": "markdown",
      "metadata": {
        "id": "zBqoJzR8_K4v"
      },
      "source": [
        "### Diccionarios\n",
        "\n",
        "Los diccionarios en Python son un tipo de estructuras de datos que permite guardar un conjunto no ordenado de pares clave-valor, siendo las claves únicas dentro de un mismo diccionario (es decir que no pueden existir dos elementos con una misma clave)"
      ]
    },
    {
      "cell_type": "code",
      "execution_count": null,
      "metadata": {
        "id": "6fipAMrF_K4v"
      },
      "outputs": [],
      "source": [
        "# diccionario vacio\n",
        "dct = {}\n",
        "\n",
        "# diccionario de enteros\n",
        "dct = {1: 'apple', 2: 'ball'}\n",
        "\n",
        "# diccionario dde llaves mixtas\n",
        "dct = {'name': 'John', 1: [2, 4, 3]}"
      ]
    },
    {
      "cell_type": "code",
      "execution_count": null,
      "metadata": {
        "id": "VrBIPzwz_K41",
        "outputId": "cff0c660-a922-4763-e588-d59ca9c9e58f"
      },
      "outputs": [
        {
          "name": "stdout",
          "output_type": "stream",
          "text": [
            "26\n"
          ]
        }
      ],
      "source": [
        "dct = {'nombre':'Jack', 'edad': 26, 'salario': 4534.2}\n",
        "print(dct['edad']) # Output: 26"
      ]
    },
    {
      "cell_type": "code",
      "execution_count": null,
      "metadata": {
        "id": "sbpfDAgO_K42",
        "outputId": "87cf7408-6922-4eb2-9eb5-6a60ff88d474"
      },
      "outputs": [
        {
          "name": "stdout",
          "output_type": "stream",
          "text": [
            "{'nombre': 'Jack', 'edad': 36}\n",
            "{'nombre': 'Jack', 'edad': 36, 'salario': 4342.4}\n",
            "{'nombre': 'Jack', 'salario': 4342.4}\n"
          ]
        }
      ],
      "source": [
        "dct = {'nombre':'Jack', 'edad': 26}\n",
        "\n",
        "# cambiar edad\n",
        "dct['edad'] = 36\n",
        "print(dct) # Output: {'name': 'Jack', 'age': 36}\n",
        "\n",
        "# adherir llave salario\n",
        "dct['salario'] = 4342.4\n",
        "print(dct) # Output: {'name': 'Jack', 'age': 36, 'salary': 4342.4}\n",
        "\n",
        "\n",
        "# borrar llave edad\n",
        "del dct['edad']\n",
        "print(dct) # Output: {'name': 'Jack', 'salary': 4342.4}\n",
        "\n",
        "# borrar diccionario\n",
        "del dct"
      ]
    },
    {
      "cell_type": "markdown",
      "metadata": {
        "id": "d0puGHGG_K43"
      },
      "source": [
        "### Python range()\n",
        "\n",
        "`range()` devuelve una secuencia inmutable de números entre el entero de inicio dado al entero de parada."
      ]
    },
    {
      "cell_type": "code",
      "execution_count": null,
      "metadata": {
        "id": "GcGi70tZ_K43",
        "outputId": "ca241986-9d9d-42e6-8b0a-53ddc4399061"
      },
      "outputs": [
        {
          "name": "stdout",
          "output_type": "stream",
          "text": [
            "range(1, 10)\n"
          ]
        }
      ],
      "source": [
        "print(range(1, 10)) # Output: range(1, 10)"
      ]
    },
    {
      "cell_type": "markdown",
      "metadata": {
        "id": "xokkvSyp_K43"
      },
      "source": [
        "El resultado es iterable y puede convertirlo en list, tuple, set, etc. Por ejemplo:"
      ]
    },
    {
      "cell_type": "code",
      "execution_count": null,
      "metadata": {
        "id": "dHS7xEv__K44",
        "outputId": "3b8254b5-4724-4c8b-e5b8-9b439c24e1c5"
      },
      "outputs": [
        {
          "name": "stdout",
          "output_type": "stream",
          "text": [
            "[1, 2, 3, 4, 5]\n",
            "(1, 2, 3, 4, 5)\n",
            "{1, 2, 3, 4, 5}\n",
            "{1: 99, 2: 99, 3: 99, 4: 99, 5: 99}\n"
          ]
        }
      ],
      "source": [
        "numeros = range(1, 6)\n",
        "\n",
        "print(list(numeros)) # Output: [1, 2, 3, 4, 5]\n",
        "print(tuple(numeros)) # Output: (1, 2, 3, 4, 5)\n",
        "print(set(numeros)) # Output: {1, 2, 3, 4, 5}\n",
        "\n",
        "# Output: {1: 99, 2: 99, 3: 99, 4: 99, 5: 99}\n",
        "print(dict.fromkeys(numeros, 99))"
      ]
    },
    {
      "cell_type": "markdown",
      "metadata": {
        "id": "ZZDA3U6V_K44"
      },
      "source": [
        "Hemos omitido el parámetro de *step* opcional para *range()* en los ejemplos anteriores. Cuando se omite, el paso predeterminado es 1. Probemos algunos ejemplos con el parámetro de paso."
      ]
    },
    {
      "cell_type": "code",
      "execution_count": null,
      "metadata": {
        "id": "qYJ8YIWV_K44",
        "outputId": "28d66550-8b1a-46fa-fafb-baaa8aa3ac45"
      },
      "outputs": [
        {
          "name": "stdout",
          "output_type": "stream",
          "text": [
            "[1, 2, 3, 4, 5]\n",
            "[1, 3, 5]\n",
            "[5, 4, 3, 2, 1]\n"
          ]
        }
      ],
      "source": [
        "numero1 = range(1, 6 , 1)\n",
        "print(list(numero1)) # Output: [1, 2, 3, 4, 5]\n",
        "\n",
        "numero2 = range(1, 6, 2)\n",
        "print(list(numero2)) # Output: [1, 3, 5]\n",
        "\n",
        "numero3 = range(5, 0, -1)\n",
        "print(list(numero3)) # Output: [5, 4, 3, 2, 1]"
      ]
    },
    {
      "cell_type": "markdown",
      "metadata": {
        "id": "qTOpF24A_K44"
      },
      "source": [
        "<a id='sub3'></a>\n",
        "## Control de Flujo\n",
        "\n",
        "### if, elif,..., else\n",
        "La instrucción if ... else se usa si desea realizar una acción diferente (ejecutar un código diferente) en diferentes condiciones. Por ejemplo:"
      ]
    },
    {
      "cell_type": "code",
      "execution_count": null,
      "metadata": {
        "id": "vke9jMU8_K44",
        "outputId": "152a78c6-b590-43a5-c3cf-f2d7610bf5de"
      },
      "outputs": [
        {
          "name": "stdout",
          "output_type": "stream",
          "text": [
            "numero negativo\n"
          ]
        }
      ],
      "source": [
        "num = -1\n",
        "\n",
        "if num > 0:\n",
        "    print(\"numero positivo\")\n",
        "elif num == 0:\n",
        "    print(\"cero\")\n",
        "else:\n",
        "    print(\"numero negativo\")\n",
        "\n",
        "# Output: numero negativo"
      ]
    },
    {
      "cell_type": "markdown",
      "metadata": {
        "id": "gUim6VFq_K45"
      },
      "source": [
        "Puede haber cero o más partes elif, y la parte else es opcional. La mayoría de los lenguajes de programación usan {} para especificar el bloque de código. Python usa sangría.\n",
        "\n",
        "Un bloque de código comienza con sangría y termina con la primera línea sin sangría. La cantidad de sangría depende de usted, pero debe ser consistente a lo largo de ese bloque. En general, se utilizan cuatro espacios en blanco para la sangría y se prefieren a las pestañas.\n",
        "\n",
        "Probemos con otro ejemplo:"
      ]
    },
    {
      "cell_type": "code",
      "execution_count": null,
      "metadata": {
        "id": "-3LxC9fL_K45",
        "outputId": "bd568e03-0697-4b8e-d612-ef56f0ac2a00"
      },
      "outputs": [
        {
          "name": "stdout",
          "output_type": "stream",
          "text": [
            "!!!\n"
          ]
        }
      ],
      "source": [
        "if False:\n",
        "    print(\"Hola\")\n",
        "    print(\"mundo\")\n",
        "print(\"!!!\")\n",
        "\n",
        "# Output: !!!"
      ]
    },
    {
      "cell_type": "markdown",
      "metadata": {
        "id": "rcGBB-CH_K45"
      },
      "source": [
        "### While Loop\n",
        "\n",
        "Al igual que la mayoría de los lenguajes de programación, el loop se usa para iterar sobre un bloque de código siempre que la expresión de prueba (condición) sea verdadera. Aquí hay un ejemplo para encontrar la suma de números naturales:"
      ]
    },
    {
      "cell_type": "code",
      "execution_count": null,
      "metadata": {
        "id": "H6LzxP0F_K46",
        "outputId": "6bb7331f-b9dc-4702-8498-44bffb06fb9a"
      },
      "outputs": [
        {
          "name": "stdout",
          "output_type": "stream",
          "text": [
            "La suma es 5050\n"
          ]
        }
      ],
      "source": [
        "n = 100\n",
        "\n",
        "# inicializar contador\n",
        "sum = 0\n",
        "i = 1\n",
        "\n",
        "while i <= n:\n",
        "    sum = sum + i\n",
        "    i = i+1    # actualizar contador\n",
        "\n",
        "print(\"La suma es\", sum)\n",
        "\n",
        "# Output: La suma es"
      ]
    },
    {
      "cell_type": "markdown",
      "metadata": {
        "id": "dfWrfa7l_K47"
      },
      "source": [
        "###  For Loop\n",
        "\n",
        "En Python, for loop se usa para iterar sobre una secuencia (lista, tupla, cadena) u otros objetos iterables. Iterar sobre una secuencia se llama transversal.\n",
        "\n",
        "Aquí hay un ejemplo para encontrar la suma de todos los números almacenados en una lista.\n"
      ]
    },
    {
      "cell_type": "code",
      "execution_count": null,
      "metadata": {
        "id": "yxo82Oie_K47",
        "outputId": "a35677c1-ebb2-47c7-d82e-073a3b3db6f8"
      },
      "outputs": [
        {
          "name": "stdout",
          "output_type": "stream",
          "text": [
            "La suma es 28\n"
          ]
        }
      ],
      "source": [
        "numbers = [6, 5, 3, 8, 4, 2]\n",
        "\n",
        "sum = 0\n",
        "\n",
        "# iterar sobre la lista\n",
        "for val in numbers:\n",
        "    sum = sum+val\n",
        "\n",
        "print(\"La suma es\", sum) # Output: La suma es 28"
      ]
    },
    {
      "cell_type": "markdown",
      "metadata": {
        "id": "VVmflHBW_K48"
      },
      "source": [
        "### Break\n",
        "La declaración *break* termina el ciclo que lo contiene. El control del programa fluye a la declaración inmediatamente después del cuerpo del bucle. Por ejemplo:"
      ]
    },
    {
      "cell_type": "code",
      "execution_count": null,
      "metadata": {
        "id": "-tUiFcA-_K49",
        "outputId": "10856707-4cf2-4da8-d687-bf27be66f51f"
      },
      "outputs": [
        {
          "name": "stdout",
          "output_type": "stream",
          "text": [
            "s\n",
            "t\n",
            "Fin\n"
          ]
        }
      ],
      "source": [
        "for val in \"string\":\n",
        "    if val == \"r\":\n",
        "        break\n",
        "    print(val)\n",
        "\n",
        "print(\"Fin\")"
      ]
    },
    {
      "cell_type": "markdown",
      "metadata": {
        "id": "Ld1iIHzn_K49"
      },
      "source": [
        "### Continue\n",
        "\n",
        "La instrucción *continue* se usa para omitir el resto del código dentro de un bucle solo para la iteración actual. El bucle no termina pero continúa con la siguiente iteración. Por ejemplo:"
      ]
    },
    {
      "cell_type": "code",
      "execution_count": null,
      "metadata": {
        "id": "ivdeqir9_K4-",
        "outputId": "b4eb30ac-b4c5-4de9-fffd-1e4312963d37"
      },
      "outputs": [
        {
          "name": "stdout",
          "output_type": "stream",
          "text": [
            "s\n",
            "t\n",
            "i\n",
            "n\n",
            "g\n",
            "Fin\n"
          ]
        }
      ],
      "source": [
        "for val in \"string\":\n",
        "    if val == \"r\":\n",
        "        continue\n",
        "    print(val)\n",
        "\n",
        "print(\"Fin\")"
      ]
    },
    {
      "cell_type": "markdown",
      "metadata": {
        "id": "KEiONJey_K4-"
      },
      "source": [
        "### Pass\n",
        "Supongamos que tiene un bucle o una función que aún no está implementada, pero desea implementarla en el futuro. No pueden tener un cuerpo vacío. El intérprete se quejaría. Por lo tanto, utiliza la instrucción *pass* para construir un cuerpo que no hace nada."
      ]
    },
    {
      "cell_type": "code",
      "execution_count": null,
      "metadata": {
        "id": "yvVx60gL_K4-"
      },
      "outputs": [],
      "source": [
        "sequence = {'p', 'a', 's', 's'}\n",
        "for val in sequence:\n",
        "    pass"
      ]
    },
    {
      "cell_type": "markdown",
      "metadata": {
        "id": "7wyDkJo9_K4-"
      },
      "source": [
        "<a id='sub4'></a>\n",
        "\n",
        "## Funciones\n",
        "\n",
        "Una función es un grupo de declaraciones relacionadas que realizan una tarea específica. Utiliza la palabra clave *def* para crear funciones en Python.\n"
      ]
    },
    {
      "cell_type": "code",
      "execution_count": null,
      "metadata": {
        "id": "HvMWtSCP_K4_",
        "outputId": "45e8b25f-ecc3-457a-a4f9-926c29c2ef28"
      },
      "outputs": [
        {
          "name": "stdout",
          "output_type": "stream",
          "text": [
            "linea 1\n",
            "linea 2\n"
          ]
        }
      ],
      "source": [
        "def imprimir_lineas():\n",
        "    print(\"linea 1\")\n",
        "    print(\"linea 2\")\n",
        "\n",
        "# llamar funcion\n",
        "imprimir_lineas()"
      ]
    },
    {
      "cell_type": "markdown",
      "metadata": {
        "id": "ghb4s0jy_K4_"
      },
      "source": [
        "Una función puede aceptar argumentos."
      ]
    },
    {
      "cell_type": "code",
      "execution_count": null,
      "metadata": {
        "id": "uQqQzR8V_K4_",
        "outputId": "2cb3d556-904d-4231-9f2d-057c21908ad9"
      },
      "outputs": [
        {
          "name": "stdout",
          "output_type": "stream",
          "text": [
            "9\n"
          ]
        }
      ],
      "source": [
        "def sumar(a, b):\n",
        "    sum = a + b\n",
        "    return sum\n",
        "\n",
        "resultado = sumar(4, 5)\n",
        "print(resultado)\n",
        "\n",
        "# Output: 9"
      ]
    },
    {
      "cell_type": "markdown",
      "metadata": {
        "id": "fNIg2IJf_K4_"
      },
      "source": [
        "### Recursion\n",
        "\n",
        "Una función que se llama a sí misma se conoce como función recursiva y este proceso se llama recursividad. Cada función recursiva debe tener una condición base que detenga la recursividad o, de lo contrario, la función se llama a sí misma infinitamente."
      ]
    },
    {
      "cell_type": "code",
      "execution_count": null,
      "metadata": {
        "id": "SZlHxtP7_K4_",
        "outputId": "d9ae544e-63b9-4a29-a6fd-0c762a6e4a78"
      },
      "outputs": [
        {
          "name": "stdout",
          "output_type": "stream",
          "text": [
            "El factorial de  6 es 720\n"
          ]
        }
      ],
      "source": [
        "# funcion factorial (recursivo)\n",
        "\n",
        "def factorial(x):\n",
        "\n",
        "    if x == 1:\n",
        "        return 1\n",
        "    else:\n",
        "        return (x * factorial(x-1))\n",
        "\n",
        "num = 6\n",
        "print(\"El factorial de \", num, \"es\", factorial(num))\n",
        "\n",
        "# Output: El factorial de  6 es 720"
      ]
    },
    {
      "cell_type": "markdown",
      "metadata": {
        "id": "r7zD3iYy_K4_"
      },
      "source": [
        "### Lambda\n",
        "\n",
        "En Python, puede definir funciones sin nombre. Estas funciones se denominan lambda o función anónima. Para crear una función *lambda*, se utiliza la palabra clave *lambda*."
      ]
    },
    {
      "cell_type": "code",
      "execution_count": null,
      "metadata": {
        "id": "5jAh0lnX_K5A",
        "outputId": "38f69290-1f18-4c1e-963a-dfaa677c59dd"
      },
      "outputs": [
        {
          "name": "stdout",
          "output_type": "stream",
          "text": [
            "25\n"
          ]
        }
      ],
      "source": [
        "cuadrado = lambda x: x ** 2\n",
        "print(cuadrado(5))\n",
        "\n",
        "# Output: 25"
      ]
    },
    {
      "cell_type": "markdown",
      "metadata": {
        "id": "LK0wAjG2_K5A"
      },
      "source": [
        "### Módulos\n",
        "\n",
        "Los módulos se refieren a un archivo que contiene declaraciones y definiciones de Python. Un archivo que contiene código Python, por ejemplo: ``modulo_01.py``, se llama módulo y su nombre de módulo sería un ejemplo.\n",
        "\n",
        "Permítanos crearlo y guardarlo como modulo_01.py."
      ]
    },
    {
      "cell_type": "code",
      "execution_count": null,
      "metadata": {
        "id": "FQ0xcYuD_K5A",
        "outputId": "a1baed40-fd70-4c9a-9728-7e28d0025d30"
      },
      "outputs": [
        {
          "name": "stdout",
          "output_type": "stream",
          "text": [
            "Overwriting modulo_01.py\n"
          ]
        }
      ],
      "source": [
        "%%writefile modulo_01.py\n",
        "def sumar(a, b):\n",
        "    return a + b"
      ]
    },
    {
      "cell_type": "markdown",
      "metadata": {
        "id": "Q64DeqZ__K5A"
      },
      "source": [
        "Para usar este módulo, usamos la palabra clave *import*."
      ]
    },
    {
      "cell_type": "code",
      "execution_count": null,
      "metadata": {
        "id": "tAzVLA1m_K5A",
        "outputId": "96f945b0-6ca4-4a66-eead-3e77e27d42d0"
      },
      "outputs": [
        {
          "data": {
            "text/plain": [
              "9.5"
            ]
          },
          "execution_count": 36,
          "metadata": {},
          "output_type": "execute_result"
        }
      ],
      "source": [
        "# importar modulo\n",
        "import modulo_01\n",
        "# acceder a las funciones del modulo\n",
        "modulo_01.sumar(4, 5.5)"
      ]
    },
    {
      "cell_type": "markdown",
      "metadata": {
        "id": "RShlZN9B_K5A"
      },
      "source": [
        "También se pueden exportar módulos nativos de python."
      ]
    },
    {
      "cell_type": "code",
      "execution_count": null,
      "metadata": {
        "id": "4EgNFrWD_K5B",
        "outputId": "812fdc49-134f-4a11-8669-30f3df612e27"
      },
      "outputs": [
        {
          "name": "stdout",
          "output_type": "stream",
          "text": [
            "2.321928094887362\n"
          ]
        }
      ],
      "source": [
        "import math\n",
        "\n",
        "resultado = math.log2(5) # retorna logaritmo base 2\n",
        "print(resultado) # Output: 2.321928094887362"
      ]
    },
    {
      "cell_type": "markdown",
      "metadata": {
        "id": "5B4GXbyB_K5B"
      },
      "source": [
        "Python tiene una tonelada de módulos estándar fácilmente disponibles para su uso. Por ejemplo:"
      ]
    },
    {
      "cell_type": "code",
      "execution_count": null,
      "metadata": {
        "id": "LNNzsm_k_K5B",
        "outputId": "fc5ffd75-b1c6-4edb-ccef-9024d6d1b46f"
      },
      "outputs": [
        {
          "name": "stdout",
          "output_type": "stream",
          "text": [
            "El valor de pi es 3.141592653589793\n"
          ]
        }
      ],
      "source": [
        "from math import pi\n",
        "print(\"El valor de pi es\", pi)\n",
        "\n",
        "# Output: The value of pi is 3.141592653589793"
      ]
    },
    {
      "cell_type": "markdown",
      "metadata": {
        "id": "i9ycIzUT_K5C"
      },
      "source": [
        "<a id='sub5'></a>\n",
        "\n",
        "## Programación orientada a objetos (OOP)\n",
        "\n",
        "Todo en Python es un objeto que incluye enteros, flotantes, funciones, clases y Ninguno. No nos centremos en por qué todo en Python es un objeto. Para eso, visite esta página. Más bien, esta sección se enfoca en crear sus propias clases y objetos.\n",
        "\n",
        "### Clase y objetos\n",
        "El objeto es simplemente una colección de datos (variables) y métodos (funciones) que actúan sobre los datos. Y, la clase es un modelo para el objeto.\n",
        "\n",
        "Tan pronto como defina una clase, se crea un nuevo objeto de clase con el mismo nombre. Este objeto de clase nos permite acceder a los diferentes atributos, así como crear instancias de nuevos objetos de esa clase.\n"
      ]
    },
    {
      "cell_type": "code",
      "execution_count": null,
      "metadata": {
        "id": "i6tg6DIJ_K5C",
        "outputId": "c7a71cc2-f4dd-4f88-8141-4892f76ede36"
      },
      "outputs": [
        {
          "name": "stdout",
          "output_type": "stream",
          "text": [
            "10\n",
            "<function Mi_clase.func at 0x10643dca0>\n",
            "Esta es mi clase\n"
          ]
        }
      ],
      "source": [
        "class Mi_clase:\n",
        "    \"Esta es mi clase\"\n",
        "    a = 10\n",
        "    def func(self):\n",
        "        print('hola')\n",
        "\n",
        "# Output: 10\n",
        "print(Mi_clase.a)\n",
        "\n",
        "# Output: <function 0x0000000003079bf8=\"\" at=\"\" myclass.func=\"\">\n",
        "print(Mi_clase.func)\n",
        "\n",
        "# Output: 'Esta es mi clase'\n",
        "print(Mi_clase.__doc__)"
      ]
    },
    {
      "cell_type": "markdown",
      "metadata": {
        "id": "5pBl_-Qw_K5C"
      },
      "source": [
        "Es posible que haya notado el parámetro *self* en la definición de la función dentro de la clase, pero llamamos al método simplemente como *ob.func()* sin ningún argumento. Aún funcionó.\n",
        "\n",
        "Esto se debe a que, cada vez que un objeto llama a su método, el objeto mismo se pasa como primer argumento. Entonces, *ob.func()* se traduce en *Mi_clase.func(ob)*.\n",
        "\n",
        "### Creando objetos\n",
        "También puede crear objetos de la clase usted mismo."
      ]
    },
    {
      "cell_type": "code",
      "execution_count": null,
      "metadata": {
        "id": "W7S5-tp__K5C",
        "outputId": "83966dd7-3f01-424a-f2b4-031f7158feab"
      },
      "outputs": [
        {
          "name": "stdout",
          "output_type": "stream",
          "text": [
            "10\n",
            "15\n"
          ]
        }
      ],
      "source": [
        "class Mi_clase:\n",
        "    \"Esta es mi clase\"\n",
        "    a = 10\n",
        "    def func(self):\n",
        "        print('hola')\n",
        "\n",
        "obj1 = Mi_clase()\n",
        "print(obj1.a)        # Output: 10\n",
        "\n",
        "obj2 = Mi_clase()\n",
        "print(obj1.a + 5)    # Output: 15"
      ]
    },
    {
      "cell_type": "markdown",
      "metadata": {
        "id": "We31TKQi_K5D"
      },
      "source": [
        "### Constructores de Python\n",
        "\n",
        "En Python, un método con el nombre *__init () __*  es un constructor. Este método se llama automáticamente cuando se instancia un objeto."
      ]
    },
    {
      "cell_type": "code",
      "execution_count": null,
      "metadata": {
        "id": "5SzdBpi__K5F",
        "outputId": "4aab3363-869c-414e-e73c-7d13280d8c36"
      },
      "outputs": [
        {
          "name": "stdout",
          "output_type": "stream",
          "text": [
            "2+3j\n",
            "0+0j\n"
          ]
        }
      ],
      "source": [
        "class NumerosComplejos:\n",
        "    def __init__(self,r = 0,i = 0):  # constructor\n",
        "        self.real = r\n",
        "        self.imag = i\n",
        "\n",
        "    def obtener_datos(self):\n",
        "        print(\"{0}+{1}j\".format(self.real,self.imag))\n",
        "\n",
        "\n",
        "c1 = NumerosComplejos(2,3) # crear el objeto NumerosComplejos\n",
        "c1.obtener_datos() # Output: 2+3j\n",
        "\n",
        "c2 = NumerosComplejos() # crear un nuevo objeto NumerosComplejos\n",
        "c2.obtener_datos() # Output: 0+0j"
      ]
    },
    {
      "cell_type": "markdown",
      "metadata": {
        "id": "jO5YlTvy_K5F"
      },
      "source": [
        "### Herencia de Python\n",
        "La herencia se refiere a definir una nueva clase con poca o ninguna modificación a una clase existente. Tomemos un ejemplo:"
      ]
    },
    {
      "cell_type": "code",
      "execution_count": null,
      "metadata": {
        "id": "JRSVygDt_K5F"
      },
      "outputs": [],
      "source": [
        "class Mamifero:\n",
        "    def caracteristicas(self):\n",
        "        print ('Mamífero es un animal de sangre caliente')"
      ]
    },
    {
      "cell_type": "markdown",
      "metadata": {
        "id": "qHDZtnP6_K5G"
      },
      "source": [
        "Derivemos una nueva clase Perro de esta clase *Mamifero*."
      ]
    },
    {
      "cell_type": "code",
      "execution_count": null,
      "metadata": {
        "id": "bkMExZN5_K5G",
        "outputId": "b39910d8-5226-410f-d8c4-6d47ce9b59df"
      },
      "outputs": [
        {
          "name": "stdout",
          "output_type": "stream",
          "text": [
            "El perro ladra\n",
            "Mamífero es un animal de sangre caliente\n"
          ]
        }
      ],
      "source": [
        "class Mamifero:\n",
        "    def caracteristicas_mamifero(self):\n",
        "        print ('Mamífero es un animal de sangre caliente')\n",
        "\n",
        "class Perro(Mamifero):\n",
        "    def caracteristicas_perro(self):\n",
        "        print('El perro ladra')\n",
        "\n",
        "d = Perro()\n",
        "d.caracteristicas_perro()\n",
        "d.caracteristicas_mamifero()"
      ]
    },
    {
      "cell_type": "markdown",
      "metadata": {
        "id": "SzNGva-P_K5G"
      },
      "source": [
        "## Decoradores\n",
        "Python tiene una característica interesante llamada decoradores para agregar funcionalidad a un código existente.\n",
        "Esto también se llama metaprogramación ya que una parte del programa intenta modificar otra parte del programa en tiempo de compilación."
      ]
    },
    {
      "cell_type": "code",
      "execution_count": null,
      "metadata": {
        "id": "-DSiJd7D_K5G",
        "outputId": "20f19e14-2ed7-4a9e-e011-3b0bd0d42779"
      },
      "outputs": [
        {
          "name": "stdout",
          "output_type": "stream",
          "text": [
            "La funcion Sumar es llamada!!!\n",
            "12\n"
          ]
        }
      ],
      "source": [
        "def debug(f):\n",
        "    def nueva_funcion(a, b):\n",
        "        print(\"La funcion Sumar es llamada!!!\")\n",
        "        return f(a, b)\n",
        "    return nueva_funcion\n",
        "\n",
        "\n",
        "@debug # decorador\n",
        "def Sumar(a, b):\n",
        "    return a + b\n",
        "print(Sumar(7, 5))"
      ]
    },
    {
      "cell_type": "markdown",
      "metadata": {
        "id": "Y9gKwavT_K5H"
      },
      "source": [
        "## Referencias\n",
        "\n",
        "1. [Introducción al lenguaje Python](https://entrenamiento-python-basico.readthedocs.io/es/latest/leccion1/)\n",
        "2. [Introducción — Tutorial de Python 3.6.3 documentation](http://docs.python.org.ar/tutorial/3/real-index.html)"
      ]
    }
  ],
  "metadata": {
    "kernelspec": {
      "display_name": "Python 3 (ipykernel)",
      "language": "python",
      "name": "python3"
    },
    "language_info": {
      "codemirror_mode": {
        "name": "ipython",
        "version": 3
      },
      "file_extension": ".py",
      "mimetype": "text/x-python",
      "name": "python",
      "nbconvert_exporter": "python",
      "pygments_lexer": "ipython3",
      "version": "3.8.10"
    },
    "colab": {
      "provenance": []
    }
  },
  "nbformat": 4,
  "nbformat_minor": 0
}